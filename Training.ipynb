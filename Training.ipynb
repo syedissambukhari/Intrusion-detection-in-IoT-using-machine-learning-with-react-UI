{
 "cells": [
  {
   "cell_type": "code",
   "execution_count": 1,
   "id": "38caeff9",
   "metadata": {
    "scrolled": true
   },
   "outputs": [
    {
     "name": "stdout",
     "output_type": "stream",
     "text": [
      "Requirement already satisfied: pandas in c:\\users\\syedi\\anaconda3\\lib\\site-packages (2.0.3)\n",
      "Requirement already satisfied: scikit-learn in c:\\users\\syedi\\anaconda3\\lib\\site-packages (1.3.0)\n",
      "Requirement already satisfied: matplotlib in c:\\users\\syedi\\anaconda3\\lib\\site-packages (3.7.2)\n",
      "Requirement already satisfied: seaborn in c:\\users\\syedi\\anaconda3\\lib\\site-packages (0.12.2)\n",
      "Requirement already satisfied: tqdm in c:\\users\\syedi\\anaconda3\\lib\\site-packages (4.65.0)\n",
      "Requirement already satisfied: python-dateutil>=2.8.2 in c:\\users\\syedi\\anaconda3\\lib\\site-packages (from pandas) (2.8.2)\n",
      "Requirement already satisfied: pytz>=2020.1 in c:\\users\\syedi\\anaconda3\\lib\\site-packages (from pandas) (2023.3.post1)\n",
      "Requirement already satisfied: tzdata>=2022.1 in c:\\users\\syedi\\anaconda3\\lib\\site-packages (from pandas) (2023.3)\n",
      "Requirement already satisfied: numpy>=1.21.0 in c:\\users\\syedi\\anaconda3\\lib\\site-packages (from pandas) (1.24.3)\n",
      "Requirement already satisfied: scipy>=1.5.0 in c:\\users\\syedi\\anaconda3\\lib\\site-packages (from scikit-learn) (1.11.1)\n",
      "Requirement already satisfied: joblib>=1.1.1 in c:\\users\\syedi\\anaconda3\\lib\\site-packages (from scikit-learn) (1.2.0)\n",
      "Requirement already satisfied: threadpoolctl>=2.0.0 in c:\\users\\syedi\\anaconda3\\lib\\site-packages (from scikit-learn) (2.2.0)\n",
      "Requirement already satisfied: contourpy>=1.0.1 in c:\\users\\syedi\\anaconda3\\lib\\site-packages (from matplotlib) (1.0.5)\n",
      "Requirement already satisfied: cycler>=0.10 in c:\\users\\syedi\\anaconda3\\lib\\site-packages (from matplotlib) (0.11.0)\n",
      "Requirement already satisfied: fonttools>=4.22.0 in c:\\users\\syedi\\anaconda3\\lib\\site-packages (from matplotlib) (4.25.0)\n",
      "Requirement already satisfied: kiwisolver>=1.0.1 in c:\\users\\syedi\\anaconda3\\lib\\site-packages (from matplotlib) (1.4.4)\n",
      "Requirement already satisfied: packaging>=20.0 in c:\\users\\syedi\\anaconda3\\lib\\site-packages (from matplotlib) (23.1)\n",
      "Requirement already satisfied: pillow>=6.2.0 in c:\\users\\syedi\\anaconda3\\lib\\site-packages (from matplotlib) (9.4.0)\n",
      "Requirement already satisfied: pyparsing<3.1,>=2.3.1 in c:\\users\\syedi\\anaconda3\\lib\\site-packages (from matplotlib) (3.0.9)\n",
      "Requirement already satisfied: colorama in c:\\users\\syedi\\anaconda3\\lib\\site-packages (from tqdm) (0.4.6)\n",
      "Requirement already satisfied: six>=1.5 in c:\\users\\syedi\\anaconda3\\lib\\site-packages (from python-dateutil>=2.8.2->pandas) (1.16.0)\n"
     ]
    }
   ],
   "source": [
    "!pip install pandas scikit-learn matplotlib seaborn tqdm"
   ]
  },
  {
   "cell_type": "code",
   "execution_count": 2,
   "id": "f5d13fcb",
   "metadata": {},
   "outputs": [],
   "source": [
    "import pandas as pd\n",
    "import matplotlib.pyplot as plt\n",
    "import glob\n",
    "from sklearn.tree import DecisionTreeClassifier\n",
    "from sklearn.metrics import confusion_matrix\n",
    "from sklearn.metrics import accuracy_score, recall_score, precision_score, f1_score\n",
    "from sklearn.preprocessing import LabelBinarizer\n",
    "from sklearn.model_selection import train_test_split\n",
    "from sklearn.preprocessing import LabelEncoder\n",
    "from sklearn.impute import SimpleImputer\n",
    "from sklearn.ensemble import AdaBoostClassifier\n",
    "from tqdm import tqdm\n",
    "import seaborn as sns\n",
    "from joblib import dump"
   ]
  },
  {
   "cell_type": "code",
   "execution_count": 3,
   "id": "cedcbeaa",
   "metadata": {},
   "outputs": [],
   "source": [
    "%matplotlib inline"
   ]
  },
  {
   "cell_type": "code",
   "execution_count": 5,
   "id": "5d94fbdb",
   "metadata": {},
   "outputs": [],
   "source": [
    "# Update the local folder path where we have stored your dataset files\n",
    "folder_path = 'dataset'\n",
    "file_paths = glob.glob(folder_path + '/*.csv')\n"
   ]
  },
  {
   "cell_type": "code",
   "execution_count": 6,
   "id": "e4665de0",
   "metadata": {},
   "outputs": [
    {
     "name": "stderr",
     "output_type": "stream",
     "text": [
      "Processing files: 100%|██████████████████████████████████████████████████████████████| 35/35 [02:21<00:00,  4.05s/file]\n"
     ]
    },
    {
     "data": {
      "text/html": [
       "<div>\n",
       "<style scoped>\n",
       "    .dataframe tbody tr th:only-of-type {\n",
       "        vertical-align: middle;\n",
       "    }\n",
       "\n",
       "    .dataframe tbody tr th {\n",
       "        vertical-align: top;\n",
       "    }\n",
       "\n",
       "    .dataframe thead th {\n",
       "        text-align: right;\n",
       "    }\n",
       "</style>\n",
       "<table border=\"1\" class=\"dataframe\">\n",
       "  <thead>\n",
       "    <tr style=\"text-align: right;\">\n",
       "      <th></th>\n",
       "      <th>flow_duration</th>\n",
       "      <th>Header_Length</th>\n",
       "      <th>Protocol Type</th>\n",
       "      <th>Duration</th>\n",
       "      <th>Rate</th>\n",
       "      <th>Srate</th>\n",
       "      <th>Drate</th>\n",
       "      <th>fin_flag_number</th>\n",
       "      <th>syn_flag_number</th>\n",
       "      <th>rst_flag_number</th>\n",
       "      <th>...</th>\n",
       "      <th>Std</th>\n",
       "      <th>Tot size</th>\n",
       "      <th>IAT</th>\n",
       "      <th>Number</th>\n",
       "      <th>Magnitue</th>\n",
       "      <th>Radius</th>\n",
       "      <th>Covariance</th>\n",
       "      <th>Variance</th>\n",
       "      <th>Weight</th>\n",
       "      <th>label</th>\n",
       "    </tr>\n",
       "  </thead>\n",
       "  <tbody>\n",
       "    <tr>\n",
       "      <th>0</th>\n",
       "      <td>0.000000</td>\n",
       "      <td>54.00</td>\n",
       "      <td>6.00</td>\n",
       "      <td>64.00</td>\n",
       "      <td>0.329807</td>\n",
       "      <td>0.329807</td>\n",
       "      <td>0.0</td>\n",
       "      <td>1.0</td>\n",
       "      <td>0.0</td>\n",
       "      <td>1.0</td>\n",
       "      <td>...</td>\n",
       "      <td>0.000000</td>\n",
       "      <td>54.00</td>\n",
       "      <td>8.334383e+07</td>\n",
       "      <td>9.5</td>\n",
       "      <td>10.392305</td>\n",
       "      <td>0.000000</td>\n",
       "      <td>0.000000</td>\n",
       "      <td>0.00</td>\n",
       "      <td>141.55</td>\n",
       "      <td>DDoS-RSTFINFlood</td>\n",
       "    </tr>\n",
       "    <tr>\n",
       "      <th>1</th>\n",
       "      <td>0.000000</td>\n",
       "      <td>57.04</td>\n",
       "      <td>6.33</td>\n",
       "      <td>64.00</td>\n",
       "      <td>4.290556</td>\n",
       "      <td>4.290556</td>\n",
       "      <td>0.0</td>\n",
       "      <td>0.0</td>\n",
       "      <td>0.0</td>\n",
       "      <td>0.0</td>\n",
       "      <td>...</td>\n",
       "      <td>2.822973</td>\n",
       "      <td>57.04</td>\n",
       "      <td>8.292607e+07</td>\n",
       "      <td>9.5</td>\n",
       "      <td>10.464666</td>\n",
       "      <td>4.010353</td>\n",
       "      <td>160.987842</td>\n",
       "      <td>0.05</td>\n",
       "      <td>141.55</td>\n",
       "      <td>DoS-TCP_Flood</td>\n",
       "    </tr>\n",
       "    <tr>\n",
       "      <th>2</th>\n",
       "      <td>0.000000</td>\n",
       "      <td>0.00</td>\n",
       "      <td>1.00</td>\n",
       "      <td>64.00</td>\n",
       "      <td>33.396799</td>\n",
       "      <td>33.396799</td>\n",
       "      <td>0.0</td>\n",
       "      <td>0.0</td>\n",
       "      <td>0.0</td>\n",
       "      <td>0.0</td>\n",
       "      <td>...</td>\n",
       "      <td>0.000000</td>\n",
       "      <td>42.00</td>\n",
       "      <td>8.312799e+07</td>\n",
       "      <td>9.5</td>\n",
       "      <td>9.165151</td>\n",
       "      <td>0.000000</td>\n",
       "      <td>0.000000</td>\n",
       "      <td>0.00</td>\n",
       "      <td>141.55</td>\n",
       "      <td>DDoS-ICMP_Flood</td>\n",
       "    </tr>\n",
       "    <tr>\n",
       "      <th>3</th>\n",
       "      <td>0.328175</td>\n",
       "      <td>76175.00</td>\n",
       "      <td>17.00</td>\n",
       "      <td>64.00</td>\n",
       "      <td>4642.133010</td>\n",
       "      <td>4642.133010</td>\n",
       "      <td>0.0</td>\n",
       "      <td>0.0</td>\n",
       "      <td>0.0</td>\n",
       "      <td>0.0</td>\n",
       "      <td>...</td>\n",
       "      <td>0.000000</td>\n",
       "      <td>50.00</td>\n",
       "      <td>8.301570e+07</td>\n",
       "      <td>9.5</td>\n",
       "      <td>10.000000</td>\n",
       "      <td>0.000000</td>\n",
       "      <td>0.000000</td>\n",
       "      <td>0.00</td>\n",
       "      <td>141.55</td>\n",
       "      <td>DoS-UDP_Flood</td>\n",
       "    </tr>\n",
       "    <tr>\n",
       "      <th>4</th>\n",
       "      <td>0.117320</td>\n",
       "      <td>101.73</td>\n",
       "      <td>6.11</td>\n",
       "      <td>65.91</td>\n",
       "      <td>6.202211</td>\n",
       "      <td>6.202211</td>\n",
       "      <td>0.0</td>\n",
       "      <td>0.0</td>\n",
       "      <td>1.0</td>\n",
       "      <td>0.0</td>\n",
       "      <td>...</td>\n",
       "      <td>23.113111</td>\n",
       "      <td>57.88</td>\n",
       "      <td>8.297300e+07</td>\n",
       "      <td>9.5</td>\n",
       "      <td>11.346876</td>\n",
       "      <td>32.716243</td>\n",
       "      <td>3016.808286</td>\n",
       "      <td>0.19</td>\n",
       "      <td>141.55</td>\n",
       "      <td>DoS-SYN_Flood</td>\n",
       "    </tr>\n",
       "  </tbody>\n",
       "</table>\n",
       "<p>5 rows × 47 columns</p>\n",
       "</div>"
      ],
      "text/plain": [
       "   flow_duration  Header_Length  Protocol Type  Duration         Rate  \\\n",
       "0       0.000000          54.00           6.00     64.00     0.329807   \n",
       "1       0.000000          57.04           6.33     64.00     4.290556   \n",
       "2       0.000000           0.00           1.00     64.00    33.396799   \n",
       "3       0.328175       76175.00          17.00     64.00  4642.133010   \n",
       "4       0.117320         101.73           6.11     65.91     6.202211   \n",
       "\n",
       "         Srate  Drate  fin_flag_number  syn_flag_number  rst_flag_number  ...  \\\n",
       "0     0.329807    0.0              1.0              0.0              1.0  ...   \n",
       "1     4.290556    0.0              0.0              0.0              0.0  ...   \n",
       "2    33.396799    0.0              0.0              0.0              0.0  ...   \n",
       "3  4642.133010    0.0              0.0              0.0              0.0  ...   \n",
       "4     6.202211    0.0              0.0              1.0              0.0  ...   \n",
       "\n",
       "         Std  Tot size           IAT  Number   Magnitue     Radius  \\\n",
       "0   0.000000     54.00  8.334383e+07     9.5  10.392305   0.000000   \n",
       "1   2.822973     57.04  8.292607e+07     9.5  10.464666   4.010353   \n",
       "2   0.000000     42.00  8.312799e+07     9.5   9.165151   0.000000   \n",
       "3   0.000000     50.00  8.301570e+07     9.5  10.000000   0.000000   \n",
       "4  23.113111     57.88  8.297300e+07     9.5  11.346876  32.716243   \n",
       "\n",
       "    Covariance  Variance  Weight             label  \n",
       "0     0.000000      0.00  141.55  DDoS-RSTFINFlood  \n",
       "1   160.987842      0.05  141.55     DoS-TCP_Flood  \n",
       "2     0.000000      0.00  141.55   DDoS-ICMP_Flood  \n",
       "3     0.000000      0.00  141.55     DoS-UDP_Flood  \n",
       "4  3016.808286      0.19  141.55     DoS-SYN_Flood  \n",
       "\n",
       "[5 rows x 47 columns]"
      ]
     },
     "execution_count": 6,
     "metadata": {},
     "output_type": "execute_result"
    }
   ],
   "source": [
    "df = pd.DataFrame()\n",
    "for file_path in tqdm(file_paths, desc='Processing files', unit='file'):\n",
    "    dff = pd.read_csv(file_path)\n",
    "    df = pd.concat([df, dff], ignore_index=True)\n",
    "\n",
    "# Display the first few rows of the DataFrame\n",
    "df.head()"
   ]
  },
  {
   "cell_type": "code",
   "execution_count": 5,
   "id": "6e0460f0",
   "metadata": {},
   "outputs": [
    {
     "name": "stdout",
     "output_type": "stream",
     "text": [
      "(8706783, 47)\n"
     ]
    }
   ],
   "source": [
    "# Display basic information about the DataFrame\n",
    "print(df.shape)\n"
   ]
  },
  {
   "cell_type": "code",
   "execution_count": 6,
   "id": "c47d9fe8",
   "metadata": {},
   "outputs": [
    {
     "name": "stdout",
     "output_type": "stream",
     "text": [
      "   flow_duration  Header_Length  Protocol Type  Duration         Rate  \\\n",
      "0       0.000000          54.00           6.00     64.00     0.329807   \n",
      "1       0.000000          57.04           6.33     64.00     4.290556   \n",
      "2       0.000000           0.00           1.00     64.00    33.396799   \n",
      "3       0.328175       76175.00          17.00     64.00  4642.133010   \n",
      "4       0.117320         101.73           6.11     65.91     6.202211   \n",
      "\n",
      "         Srate  Drate  fin_flag_number  syn_flag_number  rst_flag_number  ...  \\\n",
      "0     0.329807    0.0              1.0              0.0              1.0  ...   \n",
      "1     4.290556    0.0              0.0              0.0              0.0  ...   \n",
      "2    33.396799    0.0              0.0              0.0              0.0  ...   \n",
      "3  4642.133010    0.0              0.0              0.0              0.0  ...   \n",
      "4     6.202211    0.0              0.0              1.0              0.0  ...   \n",
      "\n",
      "         Std  Tot size           IAT  Number   Magnitue     Radius  \\\n",
      "0   0.000000     54.00  8.334383e+07     9.5  10.392305   0.000000   \n",
      "1   2.822973     57.04  8.292607e+07     9.5  10.464666   4.010353   \n",
      "2   0.000000     42.00  8.312799e+07     9.5   9.165151   0.000000   \n",
      "3   0.000000     50.00  8.301570e+07     9.5  10.000000   0.000000   \n",
      "4  23.113111     57.88  8.297300e+07     9.5  11.346876  32.716243   \n",
      "\n",
      "    Covariance  Variance  Weight             label  \n",
      "0     0.000000      0.00  141.55  DDoS-RSTFINFlood  \n",
      "1   160.987842      0.05  141.55     DoS-TCP_Flood  \n",
      "2     0.000000      0.00  141.55   DDoS-ICMP_Flood  \n",
      "3     0.000000      0.00  141.55     DoS-UDP_Flood  \n",
      "4  3016.808286      0.19  141.55     DoS-SYN_Flood  \n",
      "\n",
      "[5 rows x 47 columns]\n"
     ]
    }
   ],
   "source": [
    "print(df.head())\n"
   ]
  },
  {
   "cell_type": "code",
   "execution_count": 7,
   "id": "79f99d3c",
   "metadata": {},
   "outputs": [
    {
     "name": "stdout",
     "output_type": "stream",
     "text": [
      "Index(['flow_duration', 'Header_Length', 'Protocol Type', 'Duration', 'Rate',\n",
      "       'Srate', 'Drate', 'fin_flag_number', 'syn_flag_number',\n",
      "       'rst_flag_number', 'psh_flag_number', 'ack_flag_number',\n",
      "       'ece_flag_number', 'cwr_flag_number', 'ack_count', 'syn_count',\n",
      "       'fin_count', 'urg_count', 'rst_count', 'HTTP', 'HTTPS', 'DNS', 'Telnet',\n",
      "       'SMTP', 'SSH', 'IRC', 'TCP', 'UDP', 'DHCP', 'ARP', 'ICMP', 'IPv', 'LLC',\n",
      "       'Tot sum', 'Min', 'Max', 'AVG', 'Std', 'Tot size', 'IAT', 'Number',\n",
      "       'Magnitue', 'Radius', 'Covariance', 'Variance', 'Weight', 'label'],\n",
      "      dtype='object')\n"
     ]
    }
   ],
   "source": [
    "#printing features\n",
    "print(df.keys())\n"
   ]
  },
  {
   "cell_type": "code",
   "execution_count": 8,
   "id": "334a664c",
   "metadata": {},
   "outputs": [
    {
     "name": "stdout",
     "output_type": "stream",
     "text": [
      "<class 'pandas.core.frame.DataFrame'>\n",
      "RangeIndex: 8706783 entries, 0 to 8706782\n",
      "Data columns (total 47 columns):\n",
      " #   Column           Dtype  \n",
      "---  ------           -----  \n",
      " 0   flow_duration    float64\n",
      " 1   Header_Length    float64\n",
      " 2   Protocol Type    float64\n",
      " 3   Duration         float64\n",
      " 4   Rate             float64\n",
      " 5   Srate            float64\n",
      " 6   Drate            float64\n",
      " 7   fin_flag_number  float64\n",
      " 8   syn_flag_number  float64\n",
      " 9   rst_flag_number  float64\n",
      " 10  psh_flag_number  float64\n",
      " 11  ack_flag_number  float64\n",
      " 12  ece_flag_number  float64\n",
      " 13  cwr_flag_number  float64\n",
      " 14  ack_count        float64\n",
      " 15  syn_count        float64\n",
      " 16  fin_count        float64\n",
      " 17  urg_count        float64\n",
      " 18  rst_count        float64\n",
      " 19  HTTP             float64\n",
      " 20  HTTPS            float64\n",
      " 21  DNS              float64\n",
      " 22  Telnet           float64\n",
      " 23  SMTP             float64\n",
      " 24  SSH              float64\n",
      " 25  IRC              float64\n",
      " 26  TCP              float64\n",
      " 27  UDP              float64\n",
      " 28  DHCP             float64\n",
      " 29  ARP              float64\n",
      " 30  ICMP             float64\n",
      " 31  IPv              float64\n",
      " 32  LLC              float64\n",
      " 33  Tot sum          float64\n",
      " 34  Min              float64\n",
      " 35  Max              float64\n",
      " 36  AVG              float64\n",
      " 37  Std              float64\n",
      " 38  Tot size         float64\n",
      " 39  IAT              float64\n",
      " 40  Number           float64\n",
      " 41  Magnitue         float64\n",
      " 42  Radius           float64\n",
      " 43  Covariance       float64\n",
      " 44  Variance         float64\n",
      " 45  Weight           float64\n",
      " 46  label            object \n",
      "dtypes: float64(46), object(1)\n",
      "memory usage: 3.0+ GB\n",
      "None\n"
     ]
    }
   ],
   "source": [
    "#memory usage and the T.number of entries\n",
    "print(df.info())"
   ]
  },
  {
   "cell_type": "code",
   "execution_count": 9,
   "id": "3e2bd460",
   "metadata": {},
   "outputs": [
    {
     "data": {
      "text/plain": [
       "[]"
      ]
     },
     "execution_count": 9,
     "metadata": {},
     "output_type": "execute_result"
    }
   ],
   "source": [
    "[features for features in df.columns if df[features].isnull().sum()>0]"
   ]
  },
  {
   "cell_type": "code",
   "execution_count": 10,
   "id": "97cd8b8b",
   "metadata": {},
   "outputs": [
    {
     "name": "stdout",
     "output_type": "stream",
     "text": [
      "34\n"
     ]
    }
   ],
   "source": [
    "print(df['label'].nunique())"
   ]
  },
  {
   "cell_type": "code",
   "execution_count": 11,
   "id": "e67abdba",
   "metadata": {},
   "outputs": [
    {
     "name": "stdout",
     "output_type": "stream",
     "text": [
      "['DDoS-RSTFINFlood' 'DoS-TCP_Flood' 'DDoS-ICMP_Flood' 'DoS-UDP_Flood'\n",
      " 'DoS-SYN_Flood' 'Mirai-greeth_flood' 'DDoS-SynonymousIP_Flood'\n",
      " 'Mirai-udpplain' 'DDoS-SYN_Flood' 'DDoS-PSHACK_Flood' 'DDoS-TCP_Flood'\n",
      " 'DDoS-UDP_Flood' 'BenignTraffic' 'MITM-ArpSpoofing'\n",
      " 'DDoS-ACK_Fragmentation' 'Mirai-greip_flood' 'DoS-HTTP_Flood'\n",
      " 'DDoS-ICMP_Fragmentation' 'Recon-PortScan' 'DNS_Spoofing'\n",
      " 'DDoS-UDP_Fragmentation' 'Recon-OSScan' 'XSS' 'DDoS-HTTP_Flood'\n",
      " 'Recon-HostDiscovery' 'CommandInjection' 'VulnerabilityScan'\n",
      " 'DDoS-SlowLoris' 'Backdoor_Malware' 'BrowserHijacking'\n",
      " 'DictionaryBruteForce' 'SqlInjection' 'Recon-PingSweep'\n",
      " 'Uploading_Attack']\n"
     ]
    }
   ],
   "source": [
    "print(df['label'].unique())"
   ]
  },
  {
   "cell_type": "code",
   "execution_count": 12,
   "id": "f9a8ca38",
   "metadata": {},
   "outputs": [
    {
     "data": {
      "text/plain": [
       "label\n",
       "DDoS-ICMP_Flood            1343257\n",
       "DDoS-UDP_Flood             1010641\n",
       "DDoS-TCP_Flood              839446\n",
       "DDoS-PSHACK_Flood           763443\n",
       "DDoS-SYN_Flood              757328\n",
       "DDoS-RSTFINFlood            753657\n",
       "DDoS-SynonymousIP_Flood     669686\n",
       "DoS-UDP_Flood               618696\n",
       "DoS-TCP_Flood               498357\n",
       "DoS-SYN_Flood               376975\n",
       "BenignTraffic               205116\n",
       "Mirai-greeth_flood          184361\n",
       "Mirai-udpplain              166386\n",
       "Mirai-greip_flood           140681\n",
       "DDoS-ICMP_Fragmentation      84273\n",
       "MITM-ArpSpoofing             57612\n",
       "DDoS-UDP_Fragmentation       53846\n",
       "DDoS-ACK_Fragmentation       53402\n",
       "DNS_Spoofing                 33527\n",
       "Recon-HostDiscovery          24900\n",
       "Recon-OSScan                 18297\n",
       "Recon-PortScan               15264\n",
       "DoS-HTTP_Flood               13448\n",
       "VulnerabilityScan             6978\n",
       "DDoS-HTTP_Flood               5406\n",
       "DDoS-SlowLoris                4432\n",
       "DictionaryBruteForce          2399\n",
       "BrowserHijacking              1062\n",
       "SqlInjection                   997\n",
       "CommandInjection               977\n",
       "XSS                            675\n",
       "Backdoor_Malware               637\n",
       "Recon-PingSweep                388\n",
       "Uploading_Attack               233\n",
       "Name: count, dtype: int64"
      ]
     },
     "execution_count": 12,
     "metadata": {},
     "output_type": "execute_result"
    }
   ],
   "source": [
    "df['label'].value_counts()"
   ]
  },
  {
   "cell_type": "code",
   "execution_count": 13,
   "id": "636b629d",
   "metadata": {},
   "outputs": [],
   "source": [
    "mapping = {\n",
    "    'DDoS-ICMP_Flood': 1,\n",
    "    'DDoS-UDP_Flood': 1,\n",
    "    'DDoS-TCP_Flood': 1,\n",
    "    'DDoS-PSHACK_Flood': 1,\n",
    "    'DDoS-SYN_Flood': 1,\n",
    "    'DDoS-RSTFINFlood': 1,\n",
    "    'DDoS-SynonymousIP_Flood': 1,\n",
    "    'DoS-UDP_Flood': 1,\n",
    "    'DoS-TCP_Flood': 1,\n",
    "    'DoS-SYN_Flood': 1,\n",
    "    'BenignTraffic': 0,\n",
    "    'Mirai-greeth_flood': 1,\n",
    "    'Mirai-udpplain': 1,\n",
    "    'Mirai-greip_flood': 1,\n",
    "    'DDoS-ICMP_Fragmentation': 1,\n",
    "    'MITM-ArpSpoofing': 1,\n",
    "    'DDoS-UDP_Fragmentation': 1,\n",
    "    'DDoS-ACK_Fragmentation': 1,\n",
    "    'DNS_Spoofing': 1,\n",
    "    'Recon-HostDiscovery': 1,\n",
    "    'Recon-OSScan': 1,\n",
    "    'Recon-PortScan': 1,\n",
    "    'DoS-HTTP_Flood': 1,\n",
    "    'VulnerabilityScan': 1,\n",
    "    'DDoS-HTTP_Flood': 1,\n",
    "    'DDoS-SlowLoris': 1,\n",
    "    'DictionaryBruteForce': 1,\n",
    "    'BrowserHijacking': 1,\n",
    "    'CommandInjection': 1,\n",
    "    'SqlInjection': 1,\n",
    "    'XSS': 1,\n",
    "    'Backdoor_Malware': 1,\n",
    "    'Recon-PingSweep': 1,\n",
    "    'Uploading_Attack': 1}"
   ]
  },
  {
   "cell_type": "code",
   "execution_count": 14,
   "id": "06256848",
   "metadata": {},
   "outputs": [],
   "source": [
    "df['label'] = df['label'].map(mapping)"
   ]
  },
  {
   "cell_type": "code",
   "execution_count": 15,
   "id": "3a277e5f",
   "metadata": {},
   "outputs": [
    {
     "data": {
      "text/plain": [
       "label\n",
       "1    8501667\n",
       "0     205116\n",
       "Name: count, dtype: int64"
      ]
     },
     "execution_count": 15,
     "metadata": {},
     "output_type": "execute_result"
    }
   ],
   "source": [
    "df['label'].value_counts()"
   ]
  },
  {
   "cell_type": "code",
   "execution_count": 16,
   "id": "b6f4b6b8",
   "metadata": {},
   "outputs": [
    {
     "name": "stdout",
     "output_type": "stream",
     "text": [
      "<class 'pandas.core.frame.DataFrame'>\n",
      "RangeIndex: 8706783 entries, 0 to 8706782\n",
      "Data columns (total 47 columns):\n",
      " #   Column           Dtype  \n",
      "---  ------           -----  \n",
      " 0   flow_duration    float64\n",
      " 1   Header_Length    float64\n",
      " 2   Protocol Type    float64\n",
      " 3   Duration         float64\n",
      " 4   Rate             float64\n",
      " 5   Srate            float64\n",
      " 6   Drate            float64\n",
      " 7   fin_flag_number  float64\n",
      " 8   syn_flag_number  float64\n",
      " 9   rst_flag_number  float64\n",
      " 10  psh_flag_number  float64\n",
      " 11  ack_flag_number  float64\n",
      " 12  ece_flag_number  float64\n",
      " 13  cwr_flag_number  float64\n",
      " 14  ack_count        float64\n",
      " 15  syn_count        float64\n",
      " 16  fin_count        float64\n",
      " 17  urg_count        float64\n",
      " 18  rst_count        float64\n",
      " 19  HTTP             float64\n",
      " 20  HTTPS            float64\n",
      " 21  DNS              float64\n",
      " 22  Telnet           float64\n",
      " 23  SMTP             float64\n",
      " 24  SSH              float64\n",
      " 25  IRC              float64\n",
      " 26  TCP              float64\n",
      " 27  UDP              float64\n",
      " 28  DHCP             float64\n",
      " 29  ARP              float64\n",
      " 30  ICMP             float64\n",
      " 31  IPv              float64\n",
      " 32  LLC              float64\n",
      " 33  Tot sum          float64\n",
      " 34  Min              float64\n",
      " 35  Max              float64\n",
      " 36  AVG              float64\n",
      " 37  Std              float64\n",
      " 38  Tot size         float64\n",
      " 39  IAT              float64\n",
      " 40  Number           float64\n",
      " 41  Magnitue         float64\n",
      " 42  Radius           float64\n",
      " 43  Covariance       float64\n",
      " 44  Variance         float64\n",
      " 45  Weight           float64\n",
      " 46  label            int64  \n",
      "dtypes: float64(46), int64(1)\n",
      "memory usage: 3.0 GB\n"
     ]
    }
   ],
   "source": [
    "df.info()"
   ]
  },
  {
   "cell_type": "code",
   "execution_count": 17,
   "id": "2dd15cd0",
   "metadata": {},
   "outputs": [],
   "source": [
    "predictorNames = ['flow_duration', 'Header_Length', 'Duration', 'Rate',\n",
    "       'Srate', 'Drate', 'fin_flag_number', 'syn_flag_number',\n",
    "       'rst_flag_number', 'psh_flag_number', 'ack_flag_number',\n",
    "       'ece_flag_number', 'cwr_flag_number', 'ack_count', 'syn_count',\n",
    "       'fin_count', 'urg_count', 'rst_count', 'HTTP', 'HTTPS', 'DNS', 'Telnet',\n",
    "       'SMTP', 'SSH', 'IRC', 'TCP', 'UDP', 'DHCP', 'ARP', 'ICMP', 'IPv', 'LLC',\n",
    "       'Tot sum', 'Min', 'Max', 'AVG', 'Std', 'Tot size', 'IAT', 'Number',\n",
    "       'Magnitue', 'Radius', 'Covariance', 'Variance', 'Weight']"
   ]
  },
  {
   "cell_type": "code",
   "execution_count": 18,
   "id": "4a70cc93",
   "metadata": {},
   "outputs": [],
   "source": [
    "predictors = df[predictorNames]"
   ]
  },
  {
   "cell_type": "code",
   "execution_count": 19,
   "id": "37f8519c",
   "metadata": {},
   "outputs": [],
   "source": [
    "response = df['label']"
   ]
  },
  {
   "cell_type": "code",
   "execution_count": 20,
   "id": "2fcad734",
   "metadata": {},
   "outputs": [],
   "source": [
    "X_train, X_test, y_train, y_test = train_test_split(predictors, response, test_size=0.2, random_state=42)"
   ]
  },
  {
   "cell_type": "code",
   "execution_count": 21,
   "id": "ba974203",
   "metadata": {},
   "outputs": [],
   "source": [
    "# **Boosting Algorithm**\n",
    "template = DecisionTreeClassifier(max_depth=5)"
   ]
  },
  {
   "cell_type": "code",
   "execution_count": 22,
   "id": "3e4d51f0",
   "metadata": {},
   "outputs": [],
   "source": [
    "classificationEnsemble = AdaBoostClassifier(estimator=template,\n",
    "                                             n_estimators=100,\n",
    "                                             learning_rate=0.1)\n"
   ]
  },
  {
   "cell_type": "code",
   "execution_count": 24,
   "id": "92533b9b",
   "metadata": {},
   "outputs": [
    {
     "data": {
      "text/html": [
       "<style>#sk-container-id-1 {color: black;}#sk-container-id-1 pre{padding: 0;}#sk-container-id-1 div.sk-toggleable {background-color: white;}#sk-container-id-1 label.sk-toggleable__label {cursor: pointer;display: block;width: 100%;margin-bottom: 0;padding: 0.3em;box-sizing: border-box;text-align: center;}#sk-container-id-1 label.sk-toggleable__label-arrow:before {content: \"▸\";float: left;margin-right: 0.25em;color: #696969;}#sk-container-id-1 label.sk-toggleable__label-arrow:hover:before {color: black;}#sk-container-id-1 div.sk-estimator:hover label.sk-toggleable__label-arrow:before {color: black;}#sk-container-id-1 div.sk-toggleable__content {max-height: 0;max-width: 0;overflow: hidden;text-align: left;background-color: #f0f8ff;}#sk-container-id-1 div.sk-toggleable__content pre {margin: 0.2em;color: black;border-radius: 0.25em;background-color: #f0f8ff;}#sk-container-id-1 input.sk-toggleable__control:checked~div.sk-toggleable__content {max-height: 200px;max-width: 100%;overflow: auto;}#sk-container-id-1 input.sk-toggleable__control:checked~label.sk-toggleable__label-arrow:before {content: \"▾\";}#sk-container-id-1 div.sk-estimator input.sk-toggleable__control:checked~label.sk-toggleable__label {background-color: #d4ebff;}#sk-container-id-1 div.sk-label input.sk-toggleable__control:checked~label.sk-toggleable__label {background-color: #d4ebff;}#sk-container-id-1 input.sk-hidden--visually {border: 0;clip: rect(1px 1px 1px 1px);clip: rect(1px, 1px, 1px, 1px);height: 1px;margin: -1px;overflow: hidden;padding: 0;position: absolute;width: 1px;}#sk-container-id-1 div.sk-estimator {font-family: monospace;background-color: #f0f8ff;border: 1px dotted black;border-radius: 0.25em;box-sizing: border-box;margin-bottom: 0.5em;}#sk-container-id-1 div.sk-estimator:hover {background-color: #d4ebff;}#sk-container-id-1 div.sk-parallel-item::after {content: \"\";width: 100%;border-bottom: 1px solid gray;flex-grow: 1;}#sk-container-id-1 div.sk-label:hover label.sk-toggleable__label {background-color: #d4ebff;}#sk-container-id-1 div.sk-serial::before {content: \"\";position: absolute;border-left: 1px solid gray;box-sizing: border-box;top: 0;bottom: 0;left: 50%;z-index: 0;}#sk-container-id-1 div.sk-serial {display: flex;flex-direction: column;align-items: center;background-color: white;padding-right: 0.2em;padding-left: 0.2em;position: relative;}#sk-container-id-1 div.sk-item {position: relative;z-index: 1;}#sk-container-id-1 div.sk-parallel {display: flex;align-items: stretch;justify-content: center;background-color: white;position: relative;}#sk-container-id-1 div.sk-item::before, #sk-container-id-1 div.sk-parallel-item::before {content: \"\";position: absolute;border-left: 1px solid gray;box-sizing: border-box;top: 0;bottom: 0;left: 50%;z-index: -1;}#sk-container-id-1 div.sk-parallel-item {display: flex;flex-direction: column;z-index: 1;position: relative;background-color: white;}#sk-container-id-1 div.sk-parallel-item:first-child::after {align-self: flex-end;width: 50%;}#sk-container-id-1 div.sk-parallel-item:last-child::after {align-self: flex-start;width: 50%;}#sk-container-id-1 div.sk-parallel-item:only-child::after {width: 0;}#sk-container-id-1 div.sk-dashed-wrapped {border: 1px dashed gray;margin: 0 0.4em 0.5em 0.4em;box-sizing: border-box;padding-bottom: 0.4em;background-color: white;}#sk-container-id-1 div.sk-label label {font-family: monospace;font-weight: bold;display: inline-block;line-height: 1.2em;}#sk-container-id-1 div.sk-label-container {text-align: center;}#sk-container-id-1 div.sk-container {/* jupyter's `normalize.less` sets `[hidden] { display: none; }` but bootstrap.min.css set `[hidden] { display: none !important; }` so we also need the `!important` here to be able to override the default hidden behavior on the sphinx rendered scikit-learn.org. See: https://github.com/scikit-learn/scikit-learn/issues/21755 */display: inline-block !important;position: relative;}#sk-container-id-1 div.sk-text-repr-fallback {display: none;}</style><div id=\"sk-container-id-1\" class=\"sk-top-container\"><div class=\"sk-text-repr-fallback\"><pre>AdaBoostClassifier(estimator=DecisionTreeClassifier(max_depth=5),\n",
       "                   learning_rate=0.1, n_estimators=100)</pre><b>In a Jupyter environment, please rerun this cell to show the HTML representation or trust the notebook. <br />On GitHub, the HTML representation is unable to render, please try loading this page with nbviewer.org.</b></div><div class=\"sk-container\" hidden><div class=\"sk-item sk-dashed-wrapped\"><div class=\"sk-label-container\"><div class=\"sk-label sk-toggleable\"><input class=\"sk-toggleable__control sk-hidden--visually\" id=\"sk-estimator-id-1\" type=\"checkbox\" ><label for=\"sk-estimator-id-1\" class=\"sk-toggleable__label sk-toggleable__label-arrow\">AdaBoostClassifier</label><div class=\"sk-toggleable__content\"><pre>AdaBoostClassifier(estimator=DecisionTreeClassifier(max_depth=5),\n",
       "                   learning_rate=0.1, n_estimators=100)</pre></div></div></div><div class=\"sk-parallel\"><div class=\"sk-parallel-item\"><div class=\"sk-item\"><div class=\"sk-label-container\"><div class=\"sk-label sk-toggleable\"><input class=\"sk-toggleable__control sk-hidden--visually\" id=\"sk-estimator-id-2\" type=\"checkbox\" ><label for=\"sk-estimator-id-2\" class=\"sk-toggleable__label sk-toggleable__label-arrow\">estimator: DecisionTreeClassifier</label><div class=\"sk-toggleable__content\"><pre>DecisionTreeClassifier(max_depth=5)</pre></div></div></div><div class=\"sk-serial\"><div class=\"sk-item\"><div class=\"sk-estimator sk-toggleable\"><input class=\"sk-toggleable__control sk-hidden--visually\" id=\"sk-estimator-id-3\" type=\"checkbox\" ><label for=\"sk-estimator-id-3\" class=\"sk-toggleable__label sk-toggleable__label-arrow\">DecisionTreeClassifier</label><div class=\"sk-toggleable__content\"><pre>DecisionTreeClassifier(max_depth=5)</pre></div></div></div></div></div></div></div></div></div></div>"
      ],
      "text/plain": [
       "AdaBoostClassifier(estimator=DecisionTreeClassifier(max_depth=5),\n",
       "                   learning_rate=0.1, n_estimators=100)"
      ]
     },
     "execution_count": 24,
     "metadata": {},
     "output_type": "execute_result"
    }
   ],
   "source": [
    "# Training AdaBoostClassifier...\n",
    "classificationEnsemble.fit(X_train, y_train)"
   ]
  },
  {
   "cell_type": "code",
   "execution_count": 25,
   "id": "ea3f17dc",
   "metadata": {},
   "outputs": [
    {
     "name": "stdout",
     "output_type": "stream",
     "text": [
      "Making predictions on the test set...\n"
     ]
    }
   ],
   "source": [
    "# Predictions on the test set\n",
    "print(\"Making predictions on the test set...\")\n",
    "y_pred = classificationEnsemble.predict(X_test)"
   ]
  },
  {
   "cell_type": "code",
   "execution_count": 26,
   "id": "d6313314",
   "metadata": {},
   "outputs": [],
   "source": [
    "# Evaluate the model\n",
    "Accuracy = accuracy_score(y_test, y_pred)\n",
    "recall = recall_score(y_test, y_pred)\n",
    "precision = precision_score(y_test, y_pred)\n",
    "f1 = f1_score(y_test, y_pred)"
   ]
  },
  {
   "cell_type": "code",
   "execution_count": 27,
   "id": "4e9f1257",
   "metadata": {},
   "outputs": [
    {
     "name": "stdout",
     "output_type": "stream",
     "text": [
      "Accuracy: 99.73721643522839\n",
      "Recall: 99.8123943247813\n",
      "Precision: 99.91840199791471\n",
      "F1 Score: 99.865370029415\n"
     ]
    }
   ],
   "source": [
    "print('Accuracy:', Accuracy*100)\n",
    "print('Recall:', recall*100)\n",
    "print('Precision:', precision*100)\n",
    "print('F1 Score:', f1*100)"
   ]
  },
  {
   "cell_type": "code",
   "execution_count": 28,
   "id": "7aa28d7c",
   "metadata": {},
   "outputs": [
    {
     "data": {
      "image/png": "[encoded data removed]",
      "text/plain": [
       "<Figure size 800x300 with 1 Axes>"
      ]
     },
     "metadata": {},
     "output_type": "display_data"
    }
   ],
   "source": [
    "labels = ['Accuracy', 'Recall', 'Precision', 'F1 score']\n",
    "scores = [Accuracy,recall, precision,f1]\n",
    "sns.set(style='whitegrid')\n",
    "sns.set_color_codes('pastel')\n",
    "palette = sns.color_palette('Set1')\n",
    "\n",
    "fig, ax = plt.subplots(figsize=(8, 3)) \n",
    "\n",
    "\n",
    "sns.barplot(x=scores, y=labels, palette=palette)\n",
    "\n",
    "for i, v in enumerate(scores):\n",
    "    ax.text(v+0.01, i, f'{v*100:.2f}%', color='black', fontweight='bold')\n",
    "\n",
    "ax.set_xlim(0, 1)\n",
    "ax.set_xlabel('Score')\n",
    "ax.set_ylabel('Metric')\n",
    "ax.set_title('AdaBoostClassifier performance')\n",
    "\n",
    "plt.show()"
   ]
  },
  {
   "cell_type": "code",
   "execution_count": 29,
   "id": "e3258f88",
   "metadata": {},
   "outputs": [
    {
     "name": "stdout",
     "output_type": "stream",
     "text": [
      "Confusion Matrix:\n",
      "[[  39596    1386]\n",
      " [   3190 1697185]]\n"
     ]
    }
   ],
   "source": [
    "cm = confusion_matrix(y_test, y_pred)\n",
    "print(\"Confusion Matrix:\")\n",
    "print(cm)"
   ]
  },
  {
   "cell_type": "code",
   "execution_count": 30,
   "id": "0d522dd2",
   "metadata": {},
   "outputs": [
    {
     "data": {
      "image/png": "[encoded data removed]",
      "text/plain": [
       "<Figure size 800x600 with 2 Axes>"
      ]
     },
     "metadata": {},
     "output_type": "display_data"
    }
   ],
   "source": [
    "plt.figure(figsize=(8,6))\n",
    "sns.heatmap(cm, annot=True, cmap='Blues', fmt='g', \n",
    "            xticklabels=['BENIGN', 'DDos'], yticklabels=['BENIGN', 'DDos'])\n",
    "plt.xlabel('Predicted labels')\n",
    "plt.ylabel('True labels')\n",
    "plt.title('Confusion Matrix')\n",
    "plt.show()"
   ]
  },
  {
   "cell_type": "code",
   "execution_count": 31,
   "id": "38449279",
   "metadata": {},
   "outputs": [
    {
     "data": {
      "text/plain": [
       "['adaboost_model.joblib']"
      ]
     },
     "execution_count": 31,
     "metadata": {},
     "output_type": "execute_result"
    }
   ],
   "source": [
    "# Save the trained model to a file\n",
    "model_filename = 'adaboost_model.joblib'\n",
    "dump(classificationEnsemble, model_filename)"
   ]
  },
  {
   "cell_type": "code",
   "execution_count": null,
   "id": "a2bd69fc",
   "metadata": {},
   "outputs": [],
   "source": [
    "# for model prediction\n",
    "from joblib import load\n",
    "\n",
    "loaded_model = load(model_filename)\n",
    "\n",
    "# loaded_model for making predictions\n",
    "new_predictions = loaded_model.predict(new_data)"
   ]
  },
  {
   "cell_type": "code",
   "execution_count": null,
   "id": "5d3ceaad",
   "metadata": {},
   "outputs": [],
   "source": []
  }
 ],
 "metadata": {
  "kernelspec": {
   "display_name": "Python 3 (ipykernel)",
   "language": "python",
   "name": "python3"
  },
  "language_info": {
   "codemirror_mode": {
    "name": "ipython",
    "version": 3
   },
   "file_extension": ".py",
   "mimetype": "text/x-python",
   "name": "python",
   "nbconvert_exporter": "python",
   "pygments_lexer": "ipython3",
   "version": "3.11.5"
  }
 },
 "nbformat": 4,
 "nbformat_minor": 5
}
